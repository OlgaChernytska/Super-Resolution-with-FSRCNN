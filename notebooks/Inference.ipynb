{
 "cells": [
  {
   "cell_type": "code",
   "execution_count": null,
   "id": "bc8489d0",
   "metadata": {},
   "outputs": [],
   "source": [
    "%load_ext autoreload\n",
    "%autoreload 2\n",
    "%load_ext lab_black"
   ]
  },
  {
   "cell_type": "code",
   "execution_count": null,
   "id": "e538b1a5",
   "metadata": {},
   "outputs": [],
   "source": [
    "import tensorflow as tf\n",
    "from tensorflow import keras\n",
    "import os\n",
    "import numpy as np\n",
    "from PIL import Image\n",
    "import matplotlib.pyplot as plt\n",
    "import sys\n",
    "import yaml\n",
    "\n",
    "sys.path.append(\"../\")\n",
    "\n",
    "from utils.dataset import DIV2K_Dataset\n",
    "from utils.model import create_model\n",
    "from utils.constants import HR_IMG_SIZE, DOWNSAMPLE_MODE"
   ]
  },
  {
   "cell_type": "markdown",
   "id": "06313304",
   "metadata": {},
   "source": [
    "## Parameters"
   ]
  },
  {
   "cell_type": "code",
   "execution_count": null,
   "id": "4f28e323",
   "metadata": {},
   "outputs": [],
   "source": [
    "with open(\"../config.yaml\", \"r\") as f:\n",
    "    config = yaml.safe_load(f)\n",
    "\n",
    "model = keras.models.load_model(\"../weights/model_00277.h5\")"
   ]
  },
  {
   "cell_type": "markdown",
   "id": "f1b46cd6",
   "metadata": {},
   "source": [
    "# Evaluation"
   ]
  },
  {
   "cell_type": "markdown",
   "id": "675a844d",
   "metadata": {},
   "source": [
    "### Test Set"
   ]
  },
  {
   "cell_type": "code",
   "execution_count": null,
   "id": "bfd67358",
   "metadata": {},
   "outputs": [],
   "source": [
    "test_dataset = DIV2K_Dataset(\n",
    "    hr_image_folder=\"../data/DIV2K_train_valid_HR/\",\n",
    "    batch_size=config[\"val_batch_size\"],\n",
    "    set_type=\"test\",\n",
    ")"
   ]
  },
  {
   "cell_type": "code",
   "execution_count": null,
   "id": "7d540f64",
   "metadata": {},
   "outputs": [],
   "source": [
    "n_runs = 5\n",
    "psnrs = []\n",
    "\n",
    "for _ in range(n_runs):\n",
    "    for batch in test_dataset:\n",
    "        preds = model.predict(batch[0])\n",
    "        psnr = tf.image.psnr(batch[1], preds, max_val=1.0)\n",
    "        psnr = psnr.numpy().tolist()\n",
    "        psnrs.extend(psnr)\n",
    "\n",
    "print(\"Mean PSNR: {:.3f}\".format(np.mean(psnrs)))"
   ]
  },
  {
   "cell_type": "markdown",
   "id": "22d517e4",
   "metadata": {},
   "source": [
    "# Visualization"
   ]
  },
  {
   "cell_type": "markdown",
   "id": "9f9f8b9b",
   "metadata": {},
   "source": [
    "### Test Set"
   ]
  },
  {
   "cell_type": "code",
   "execution_count": null,
   "id": "19837043",
   "metadata": {},
   "outputs": [],
   "source": [
    "batch_id = 0\n",
    "batch = test_dataset.__getitem__(batch_id)\n",
    "preds = model.predict(batch[0])"
   ]
  },
  {
   "cell_type": "code",
   "execution_count": null,
   "id": "71fc83e4",
   "metadata": {},
   "outputs": [],
   "source": [
    "img_id = 1\n",
    "\n",
    "plt.figure(figsize=[15, 15])\n",
    "plt.subplot(2, 2, 1)\n",
    "plt.imshow(batch[0][img_id])\n",
    "plt.axis(\"off\")\n",
    "plt.title(\"LR Image\")\n",
    "\n",
    "plt.subplot(2, 2, 2)\n",
    "plt.imshow(batch[1][img_id])\n",
    "plt.axis(\"off\")\n",
    "plt.title(\"HR Image\")\n",
    "\n",
    "plt.subplot(2, 2, 3)\n",
    "plt.imshow(preds[img_id])\n",
    "plt.axis(\"off\")\n",
    "plt.title(\"Restored Image\")\n",
    "\n",
    "\n",
    "plt.subplot(2, 2, 4)\n",
    "lr_image = Image.fromarray(np.array(batch[0][img_id] * 255, dtype=\"uint8\"))\n",
    "lr_image_resized = lr_image.resize(HR_IMG_SIZE, resample=DOWNSAMPLE_MODE)\n",
    "plt.imshow(lr_image_resized)\n",
    "plt.axis(\"off\")\n",
    "plt.title(\"Bilinear Upsampling\")\n",
    "\n",
    "plt.tight_layout()\n",
    "plt.show()"
   ]
  },
  {
   "cell_type": "code",
   "execution_count": null,
   "id": "e178ec70",
   "metadata": {},
   "outputs": [],
   "source": []
  }
 ],
 "metadata": {
  "environment": {
   "name": "tf2-gpu.2-3.m74",
   "type": "gcloud",
   "uri": "gcr.io/deeplearning-platform-release/tf2-gpu.2-3:m74"
  },
  "kernelspec": {
   "display_name": "Python 3",
   "language": "python",
   "name": "python3"
  },
  "language_info": {
   "codemirror_mode": {
    "name": "ipython",
    "version": 3
   },
   "file_extension": ".py",
   "mimetype": "text/x-python",
   "name": "python",
   "nbconvert_exporter": "python",
   "pygments_lexer": "ipython3",
   "version": "3.7.10"
  }
 },
 "nbformat": 4,
 "nbformat_minor": 5
}
