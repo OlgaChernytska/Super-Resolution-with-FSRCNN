{
 "cells": [
  {
   "cell_type": "code",
   "execution_count": 1,
   "id": "733bcde1",
   "metadata": {},
   "outputs": [],
   "source": [
    "%load_ext autoreload\n",
    "%autoreload 2\n",
    "%load_ext lab_black"
   ]
  },
  {
   "cell_type": "code",
   "execution_count": 22,
   "id": "00f1dbdb",
   "metadata": {},
   "outputs": [],
   "source": [
    "from tensorflow import keras\n",
    "import tensorflow as tf\n",
    "from tensorflow.keras.layers.experimental.preprocessing import RandomCrop, Rescaling\n",
    "import albumentations as A\n",
    "from PIL import Image\n",
    "import os\n",
    "import numpy as np\n",
    "import sys\n",
    "import random\n",
    "\n",
    "sys.path.append(\"../\")\n",
    "\n",
    "from utils.constants import (\n",
    "    IMAGE_FORMAT,\n",
    "    DOWNSAMPLE_MODE,\n",
    "    COLOR_CHANNELS,\n",
    "    UPSCALING_FACTOR,\n",
    "    HR_IMG_SIZE,\n",
    "    LR_IMG_SIZE,\n",
    ")"
   ]
  },
  {
   "cell_type": "code",
   "execution_count": 9,
   "id": "93ab09d7",
   "metadata": {},
   "outputs": [],
   "source": [
    "list_ = [1, 2, 3]"
   ]
  },
  {
   "cell_type": "code",
   "execution_count": 3,
   "id": "d0015ecc",
   "metadata": {},
   "outputs": [],
   "source": [
    "crop = RandomCrop(height=HR_IMG_SIZE[0], width=HR_IMG_SIZE[1])\n",
    "rescale = Rescaling(scale=1.0 / 127.5, offset=-1)"
   ]
  },
  {
   "cell_type": "code",
   "execution_count": 20,
   "id": "4e8bd7a9",
   "metadata": {},
   "outputs": [],
   "source": [
    "img = \"../data/DIV2K_train_HR/0001.png\"\n",
    "hr_image_pil = Image.open(img)\n",
    "hr_image_arr = np.array(hr_image_pil)"
   ]
  },
  {
   "cell_type": "code",
   "execution_count": 25,
   "id": "a848bb0e",
   "metadata": {},
   "outputs": [],
   "source": []
  },
  {
   "cell_type": "code",
   "execution_count": 31,
   "id": "7566d642",
   "metadata": {},
   "outputs": [
    {
     "ename": "AttributeError",
     "evalue": "'tensorflow.python.framework.ops.EagerTensor' object has no attribute '__array_interface__'",
     "output_type": "error",
     "traceback": [
      "\u001b[0;31m---------------------------------------------------------------------------\u001b[0m",
      "\u001b[0;31mAttributeError\u001b[0m                            Traceback (most recent call last)",
      "\u001b[0;32m<ipython-input-31-914d8d8a452a>\u001b[0m in \u001b[0;36m<module>\u001b[0;34m\u001b[0m\n\u001b[0;32m----> 1\u001b[0;31m \u001b[0mImage\u001b[0m\u001b[0;34m.\u001b[0m\u001b[0mfromarray\u001b[0m\u001b[0;34m(\u001b[0m\u001b[0mcrop\u001b[0m\u001b[0;34m(\u001b[0m\u001b[0mhr_image_expanded\u001b[0m\u001b[0;34m)\u001b[0m\u001b[0;34m[\u001b[0m\u001b[0;36m0\u001b[0m\u001b[0;34m]\u001b[0m\u001b[0;34m)\u001b[0m\u001b[0;34m\u001b[0m\u001b[0;34m\u001b[0m\u001b[0m\n\u001b[0m",
      "\u001b[0;32m/opt/conda/lib/python3.7/site-packages/PIL/Image.py\u001b[0m in \u001b[0;36mfromarray\u001b[0;34m(obj, mode)\u001b[0m\n\u001b[1;32m   2760\u001b[0m     \u001b[0;34m.\u001b[0m\u001b[0;34m.\u001b[0m \u001b[0mversionadded\u001b[0m\u001b[0;34m:\u001b[0m\u001b[0;34m:\u001b[0m \u001b[0;36m1.1\u001b[0m\u001b[0;36m.6\u001b[0m\u001b[0;34m\u001b[0m\u001b[0;34m\u001b[0m\u001b[0m\n\u001b[1;32m   2761\u001b[0m     \"\"\"\n\u001b[0;32m-> 2762\u001b[0;31m     \u001b[0marr\u001b[0m \u001b[0;34m=\u001b[0m \u001b[0mobj\u001b[0m\u001b[0;34m.\u001b[0m\u001b[0m__array_interface__\u001b[0m\u001b[0;34m\u001b[0m\u001b[0;34m\u001b[0m\u001b[0m\n\u001b[0m\u001b[1;32m   2763\u001b[0m     \u001b[0mshape\u001b[0m \u001b[0;34m=\u001b[0m \u001b[0marr\u001b[0m\u001b[0;34m[\u001b[0m\u001b[0;34m\"shape\"\u001b[0m\u001b[0;34m]\u001b[0m\u001b[0;34m\u001b[0m\u001b[0;34m\u001b[0m\u001b[0m\n\u001b[1;32m   2764\u001b[0m     \u001b[0mndim\u001b[0m \u001b[0;34m=\u001b[0m \u001b[0mlen\u001b[0m\u001b[0;34m(\u001b[0m\u001b[0mshape\u001b[0m\u001b[0;34m)\u001b[0m\u001b[0;34m\u001b[0m\u001b[0;34m\u001b[0m\u001b[0m\n",
      "\u001b[0;31mAttributeError\u001b[0m: 'tensorflow.python.framework.ops.EagerTensor' object has no attribute '__array_interface__'"
     ]
    }
   ],
   "source": [
    "Image.fromarray(crop(hr_image_expanded)[0])"
   ]
  },
  {
   "cell_type": "code",
   "execution_count": 13,
   "id": "8d9a6087",
   "metadata": {},
   "outputs": [
    {
     "data": {
      "text/plain": [
       "(1404, 2040, 3)"
      ]
     },
     "execution_count": 13,
     "metadata": {},
     "output_type": "execute_result"
    }
   ],
   "source": [
    "hr_image_arr.shape"
   ]
  },
  {
   "cell_type": "code",
   "execution_count": 74,
   "id": "30c2a672",
   "metadata": {},
   "outputs": [],
   "source": []
  },
  {
   "cell_type": "code",
   "execution_count": 75,
   "id": "2ff8cbbd",
   "metadata": {},
   "outputs": [],
   "source": [
    "dataset = DIV2K_Dataset(\"../data/DIV2K_train_HR/\", 2)"
   ]
  },
  {
   "cell_type": "code",
   "execution_count": 67,
   "id": "e4ef338d",
   "metadata": {},
   "outputs": [
    {
     "data": {
      "text/plain": [
       "(-1.0, 1.0)"
      ]
     },
     "execution_count": 67,
     "metadata": {},
     "output_type": "execute_result"
    }
   ],
   "source": [
    "(dataset.__getitem__(1)[1][0] * 2 - 1).min(), (\n",
    "    dataset.__getitem__(1)[1][0] * 2 - 1\n",
    ").max()"
   ]
  },
  {
   "cell_type": "code",
   "execution_count": 76,
   "id": "687ac774",
   "metadata": {},
   "outputs": [
    {
     "data": {
      "text/plain": [
       "(-1.0, 0.8196078538894653)"
      ]
     },
     "execution_count": 76,
     "metadata": {},
     "output_type": "execute_result"
    }
   ],
   "source": [
    "dataset.__getitem__(1)[1][0].min(), dataset.__getitem__(1)[1][0].max()"
   ]
  },
  {
   "cell_type": "code",
   "execution_count": null,
   "id": "d7087ddb",
   "metadata": {},
   "outputs": [],
   "source": []
  }
 ],
 "metadata": {
  "environment": {
   "name": "tf2-gpu.2-3.m74",
   "type": "gcloud",
   "uri": "gcr.io/deeplearning-platform-release/tf2-gpu.2-3:m74"
  },
  "kernelspec": {
   "display_name": "Python 3",
   "language": "python",
   "name": "python3"
  },
  "language_info": {
   "codemirror_mode": {
    "name": "ipython",
    "version": 3
   },
   "file_extension": ".py",
   "mimetype": "text/x-python",
   "name": "python",
   "nbconvert_exporter": "python",
   "pygments_lexer": "ipython3",
   "version": "3.7.10"
  }
 },
 "nbformat": 4,
 "nbformat_minor": 5
}
